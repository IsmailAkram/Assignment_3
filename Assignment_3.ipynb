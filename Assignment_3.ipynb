{
 "cells": [
  {
   "cell_type": "markdown",
   "id": "ae71dd33",
   "metadata": {},
   "source": [
    "[![Open In Colab](https://colab.research.google.com/assets/colab-badge.svg)](https://colab.research.google.com/github/IsmailAkram/Assignment_3/blob/main/Assignment_3.ipynb)"
   ]
  },
  {
   "cell_type": "code",
   "execution_count": 1,
   "id": "68097d13-c327-45e2-93da-74bbe8d07ee3",
   "metadata": {},
   "outputs": [],
   "source": [
    "# Imports Section\n",
    "import pandas as pd\n",
    "import numpy as np"
   ]
  },
  {
   "cell_type": "markdown",
   "id": "5032b10e",
   "metadata": {},
   "source": [
    "Context reference for future reviews: https://hmcnich.gitbook.io/csc448-f21/assignment-3-equation-of-a-slime"
   ]
  },
  {
   "cell_type": "markdown",
   "id": "8f5c77a9-7520-4cbd-bb7b-e07729180f92",
   "metadata": {},
   "source": [
    "## Part 1. Loading the dataset"
   ]
  },
  {
   "cell_type": "code",
   "execution_count": 2,
   "id": "8c73e65e-1b3e-449d-b891-5134dbdac8a7",
   "metadata": {},
   "outputs": [],
   "source": [
    "# Using pandas load the dataset (load remotely, not locally)\n",
    "slime_df = pd.read_csv(\"https://raw.githubusercontent.com/profmcnich/example_notebook/main/science_data_large.csv\")"
   ]
  },
  {
   "cell_type": "code",
   "execution_count": 3,
   "id": "df9d02bb-d6c0-463e-b6ab-c4500d9f2a20",
   "metadata": {},
   "outputs": [
    {
     "data": {
      "text/html": [
       "<div>\n",
       "<style scoped>\n",
       "    .dataframe tbody tr th:only-of-type {\n",
       "        vertical-align: middle;\n",
       "    }\n",
       "\n",
       "    .dataframe tbody tr th {\n",
       "        vertical-align: top;\n",
       "    }\n",
       "\n",
       "    .dataframe thead th {\n",
       "        text-align: right;\n",
       "    }\n",
       "</style>\n",
       "<table border=\"1\" class=\"dataframe\">\n",
       "  <thead>\n",
       "    <tr style=\"text-align: right;\">\n",
       "      <th></th>\n",
       "      <th>Temperature °C</th>\n",
       "      <th>Mols KCL</th>\n",
       "      <th>Size nm^3</th>\n",
       "    </tr>\n",
       "  </thead>\n",
       "  <tbody>\n",
       "    <tr>\n",
       "      <th>0</th>\n",
       "      <td>469</td>\n",
       "      <td>647</td>\n",
       "      <td>6.244743e+05</td>\n",
       "    </tr>\n",
       "    <tr>\n",
       "      <th>1</th>\n",
       "      <td>403</td>\n",
       "      <td>694</td>\n",
       "      <td>5.779610e+05</td>\n",
       "    </tr>\n",
       "    <tr>\n",
       "      <th>2</th>\n",
       "      <td>302</td>\n",
       "      <td>975</td>\n",
       "      <td>6.196847e+05</td>\n",
       "    </tr>\n",
       "    <tr>\n",
       "      <th>3</th>\n",
       "      <td>779</td>\n",
       "      <td>916</td>\n",
       "      <td>1.460449e+06</td>\n",
       "    </tr>\n",
       "    <tr>\n",
       "      <th>4</th>\n",
       "      <td>901</td>\n",
       "      <td>18</td>\n",
       "      <td>4.325726e+04</td>\n",
       "    </tr>\n",
       "    <tr>\n",
       "      <th>5</th>\n",
       "      <td>545</td>\n",
       "      <td>637</td>\n",
       "      <td>7.124634e+05</td>\n",
       "    </tr>\n",
       "    <tr>\n",
       "      <th>6</th>\n",
       "      <td>660</td>\n",
       "      <td>519</td>\n",
       "      <td>7.006960e+05</td>\n",
       "    </tr>\n",
       "    <tr>\n",
       "      <th>7</th>\n",
       "      <td>143</td>\n",
       "      <td>869</td>\n",
       "      <td>2.718260e+05</td>\n",
       "    </tr>\n",
       "    <tr>\n",
       "      <th>8</th>\n",
       "      <td>89</td>\n",
       "      <td>461</td>\n",
       "      <td>8.919803e+04</td>\n",
       "    </tr>\n",
       "    <tr>\n",
       "      <th>9</th>\n",
       "      <td>294</td>\n",
       "      <td>776</td>\n",
       "      <td>4.770210e+05</td>\n",
       "    </tr>\n",
       "    <tr>\n",
       "      <th>10</th>\n",
       "      <td>991</td>\n",
       "      <td>117</td>\n",
       "      <td>2.441771e+05</td>\n",
       "    </tr>\n",
       "    <tr>\n",
       "      <th>11</th>\n",
       "      <td>307</td>\n",
       "      <td>781</td>\n",
       "      <td>5.006455e+05</td>\n",
       "    </tr>\n",
       "    <tr>\n",
       "      <th>12</th>\n",
       "      <td>206</td>\n",
       "      <td>70</td>\n",
       "      <td>3.145200e+04</td>\n",
       "    </tr>\n",
       "    <tr>\n",
       "      <th>13</th>\n",
       "      <td>437</td>\n",
       "      <td>599</td>\n",
       "      <td>5.390215e+05</td>\n",
       "    </tr>\n",
       "    <tr>\n",
       "      <th>14</th>\n",
       "      <td>566</td>\n",
       "      <td>75</td>\n",
       "      <td>9.185271e+04</td>\n",
       "    </tr>\n",
       "  </tbody>\n",
       "</table>\n",
       "</div>"
      ],
      "text/plain": [
       "    Temperature °C  Mols KCL     Size nm^3\n",
       "0              469       647  6.244743e+05\n",
       "1              403       694  5.779610e+05\n",
       "2              302       975  6.196847e+05\n",
       "3              779       916  1.460449e+06\n",
       "4              901        18  4.325726e+04\n",
       "5              545       637  7.124634e+05\n",
       "6              660       519  7.006960e+05\n",
       "7              143       869  2.718260e+05\n",
       "8               89       461  8.919803e+04\n",
       "9              294       776  4.770210e+05\n",
       "10             991       117  2.441771e+05\n",
       "11             307       781  5.006455e+05\n",
       "12             206        70  3.145200e+04\n",
       "13             437       599  5.390215e+05\n",
       "14             566        75  9.185271e+04"
      ]
     },
     "execution_count": 3,
     "metadata": {},
     "output_type": "execute_result"
    }
   ],
   "source": [
    "# Output the first 15 rows of the data\n",
    "slime_df.head(15)"
   ]
  },
  {
   "cell_type": "code",
   "execution_count": 4,
   "id": "d306af4d-087a-40ac-bf1b-536f04c97b50",
   "metadata": {},
   "outputs": [
    {
     "name": "stdout",
     "output_type": "stream",
     "text": [
      "<class 'pandas.core.frame.DataFrame'>\n",
      "RangeIndex: 1000 entries, 0 to 999\n",
      "Data columns (total 3 columns):\n",
      " #   Column          Non-Null Count  Dtype  \n",
      "---  ------          --------------  -----  \n",
      " 0   Temperature °C  1000 non-null   int64  \n",
      " 1   Mols KCL        1000 non-null   int64  \n",
      " 2   Size nm^3       1000 non-null   float64\n",
      "dtypes: float64(1), int64(2)\n",
      "memory usage: 23.6 KB\n"
     ]
    },
    {
     "data": {
      "text/html": [
       "<div>\n",
       "<style scoped>\n",
       "    .dataframe tbody tr th:only-of-type {\n",
       "        vertical-align: middle;\n",
       "    }\n",
       "\n",
       "    .dataframe tbody tr th {\n",
       "        vertical-align: top;\n",
       "    }\n",
       "\n",
       "    .dataframe thead th {\n",
       "        text-align: right;\n",
       "    }\n",
       "</style>\n",
       "<table border=\"1\" class=\"dataframe\">\n",
       "  <thead>\n",
       "    <tr style=\"text-align: right;\">\n",
       "      <th></th>\n",
       "      <th>Temperature °C</th>\n",
       "      <th>Mols KCL</th>\n",
       "      <th>Size nm^3</th>\n",
       "    </tr>\n",
       "  </thead>\n",
       "  <tbody>\n",
       "    <tr>\n",
       "      <th>count</th>\n",
       "      <td>1000.000000</td>\n",
       "      <td>1000.000000</td>\n",
       "      <td>1.000000e+03</td>\n",
       "    </tr>\n",
       "    <tr>\n",
       "      <th>mean</th>\n",
       "      <td>500.500000</td>\n",
       "      <td>471.530000</td>\n",
       "      <td>5.086111e+05</td>\n",
       "    </tr>\n",
       "    <tr>\n",
       "      <th>std</th>\n",
       "      <td>288.819436</td>\n",
       "      <td>288.482872</td>\n",
       "      <td>4.474838e+05</td>\n",
       "    </tr>\n",
       "    <tr>\n",
       "      <th>min</th>\n",
       "      <td>1.000000</td>\n",
       "      <td>1.000000</td>\n",
       "      <td>1.611429e+01</td>\n",
       "    </tr>\n",
       "    <tr>\n",
       "      <th>25%</th>\n",
       "      <td>250.750000</td>\n",
       "      <td>226.750000</td>\n",
       "      <td>1.298267e+05</td>\n",
       "    </tr>\n",
       "    <tr>\n",
       "      <th>50%</th>\n",
       "      <td>500.500000</td>\n",
       "      <td>459.500000</td>\n",
       "      <td>3.827182e+05</td>\n",
       "    </tr>\n",
       "    <tr>\n",
       "      <th>75%</th>\n",
       "      <td>750.250000</td>\n",
       "      <td>710.250000</td>\n",
       "      <td>7.603211e+05</td>\n",
       "    </tr>\n",
       "    <tr>\n",
       "      <th>max</th>\n",
       "      <td>1000.000000</td>\n",
       "      <td>1000.000000</td>\n",
       "      <td>1.972127e+06</td>\n",
       "    </tr>\n",
       "  </tbody>\n",
       "</table>\n",
       "</div>"
      ],
      "text/plain": [
       "       Temperature °C     Mols KCL     Size nm^3\n",
       "count     1000.000000  1000.000000  1.000000e+03\n",
       "mean       500.500000   471.530000  5.086111e+05\n",
       "std        288.819436   288.482872  4.474838e+05\n",
       "min          1.000000     1.000000  1.611429e+01\n",
       "25%        250.750000   226.750000  1.298267e+05\n",
       "50%        500.500000   459.500000  3.827182e+05\n",
       "75%        750.250000   710.250000  7.603211e+05\n",
       "max       1000.000000  1000.000000  1.972127e+06"
      ]
     },
     "execution_count": 4,
     "metadata": {},
     "output_type": "execute_result"
    }
   ],
   "source": [
    "# Display a summary of the table information (number of datapoints, etc.)\n",
    "slime_df.info() # for technical summary\n",
    "slime_df.describe()"
   ]
  },
  {
   "cell_type": "code",
   "execution_count": 5,
   "id": "ae35db72-6cd4-4379-ac21-83df4319349f",
   "metadata": {},
   "outputs": [
    {
     "data": {
      "text/plain": [
       "3000"
      ]
     },
     "execution_count": 5,
     "metadata": {},
     "output_type": "execute_result"
    }
   ],
   "source": [
    "slime_df.size # number of datapoints"
   ]
  },
  {
   "cell_type": "markdown",
   "id": "abc6ea15-81fd-434c-8666-1afd65b0a436",
   "metadata": {},
   "source": [
    "## Part 2. Splitting the dataset"
   ]
  },
  {
   "cell_type": "code",
   "execution_count": 6,
   "id": "d3babd6d-9e9d-4ddb-b3c9-5f708409fd8e",
   "metadata": {},
   "outputs": [],
   "source": [
    "# Take the pandas dataset and split it into our features (X) and label (y)\n",
    "features = slime_df[[\"Temperature °C\", \"Mols KCL\"]] # X (2D array)\n",
    "label = slime_df[\"Size nm^3\"] # Y"
   ]
  },
  {
   "cell_type": "code",
   "execution_count": 7,
   "id": "4efb680c-3427-435a-924d-d900b379761a",
   "metadata": {},
   "outputs": [],
   "source": [
    "# Use sklearn to split the features and labels into a training/test set. (90% train, 10% test)\n",
    "from sklearn.model_selection import train_test_split\n",
    "\n",
    "X_train, X_test, y_train, y_test = train_test_split(features, label, test_size=0.1, train_size=0.9) # splits into 4 arrays"
   ]
  },
  {
   "cell_type": "code",
   "execution_count": 8,
   "id": "449e1ad8-73ef-4c21-9ec8-32aa70dd663e",
   "metadata": {},
   "outputs": [
    {
     "data": {
      "text/plain": [
       "(     Temperature °C  Mols KCL\n",
       " 733             329       848\n",
       " 207             807       529\n",
       " 289             372       944\n",
       " 845             144        70\n",
       " 647             912       965\n",
       " ..              ...       ...\n",
       " 341             473       732\n",
       " 718             927       360\n",
       " 605             261        40\n",
       " 141             423       820\n",
       " 324             703       774\n",
       " \n",
       " [900 rows x 2 columns],\n",
       "      Temperature °C  Mols KCL\n",
       " 87              846        30\n",
       " 820             563       395\n",
       " 446             173       111\n",
       " 232             101       828\n",
       " 711             551       694\n",
       " ..              ...       ...\n",
       " 375             657       137\n",
       " 981             859       811\n",
       " 677             151       492\n",
       " 966             152       380\n",
       " 724             941       892\n",
       " \n",
       " [100 rows x 2 columns],\n",
       " 733    5.824778e+05\n",
       " 207    8.714855e+05\n",
       " 289    7.322610e+05\n",
       " 845    2.202800e+04\n",
       " 647    1.797710e+06\n",
       "            ...     \n",
       " 341    7.134573e+05\n",
       " 718    6.822669e+05\n",
       " 605    2.405771e+04\n",
       " 141    7.180074e+05\n",
       " 324    1.113796e+06\n",
       " Name: Size nm^3, Length: 900, dtype: float64,\n",
       " 87     6.093771e+04\n",
       " 820    4.559839e+05\n",
       " 446    4.083403e+04\n",
       " 232    1.880561e+05\n",
       " 711    7.851610e+05\n",
       "            ...     \n",
       " 375    1.884383e+05\n",
       " 981    1.422398e+06\n",
       " 677    1.573121e+05\n",
       " 966    1.214697e+05\n",
       " 724    1.712769e+06\n",
       " Name: Size nm^3, Length: 100, dtype: float64)"
      ]
     },
     "execution_count": 8,
     "metadata": {},
     "output_type": "execute_result"
    }
   ],
   "source": [
    "X_train, X_test, y_train, y_test # for display purposes"
   ]
  },
  {
   "cell_type": "markdown",
   "id": "50506103",
   "metadata": {},
   "source": [
    "## Part 3. Perform a Linear Regression\n",
    "https://scikit-learn.org/stable/modules/generated/sklearn.linear_model.LinearRegression.html#sklearn.linear_model.LinearRegression"
   ]
  },
  {
   "cell_type": "code",
   "execution_count": 9,
   "id": "3eeed3b1",
   "metadata": {},
   "outputs": [
    {
     "data": {
      "text/plain": [
       "0.8594731306915852"
      ]
     },
     "execution_count": 9,
     "metadata": {},
     "output_type": "execute_result"
    }
   ],
   "source": [
    "# Use sklearn to train a model on the training set\n",
    "from sklearn.linear_model import LinearRegression\n",
    "\n",
    "LinReg = LinearRegression().fit(X_train, y_train) # for fitting; use train.\n",
    "LinReg.score(X_test, y_test) # for scoring; use test."
   ]
  },
  {
   "cell_type": "code",
   "execution_count": 10,
   "id": "07e53e56",
   "metadata": {},
   "outputs": [
    {
     "data": {
      "text/plain": [
       "array([-414955.50302426])"
      ]
     },
     "execution_count": 10,
     "metadata": {},
     "output_type": "execute_result"
    }
   ],
   "source": [
    "# Create a sample datapoint and predict the output of that sample with the trained model\n",
    "LinReg.predict(np.array([[1,2]])) # nparray to create a 2D array for features (which is a 2D array)."
   ]
  },
  {
   "cell_type": "code",
   "execution_count": 11,
   "id": "c510e593",
   "metadata": {},
   "outputs": [
    {
     "data": {
      "text/plain": [
       "array([ 874.04495115, 1033.99759651])"
      ]
     },
     "execution_count": 11,
     "metadata": {},
     "output_type": "execute_result"
    }
   ],
   "source": [
    "LinReg.coef_ # 2 coefficients"
   ]
  },
  {
   "cell_type": "code",
   "execution_count": 12,
   "id": "c84a4dfa",
   "metadata": {},
   "outputs": [
    {
     "data": {
      "text/plain": [
       "-417897.54316843016"
      ]
     },
     "execution_count": 12,
     "metadata": {},
     "output_type": "execute_result"
    }
   ],
   "source": [
    "LinReg.intercept_ "
   ]
  },
  {
   "cell_type": "code",
   "execution_count": 13,
   "id": "3c4b0e36",
   "metadata": {},
   "outputs": [],
   "source": [
    "# Report on the score for that model, in your own words (markdown, not code) explain what the score means\n",
    "# Extract the coefficents and intercept from the model and write an equation for your h(x) using LaTeX"
   ]
  },
  {
   "cell_type": "markdown",
   "id": "d12f1c9a",
   "metadata": {},
   "source": [
    " $LinReg.intercept + LinReg.coef$ \n",
    " \n",
    "Line of best fit (regression of intercept plus regression of coefficient). It's not 100$ accuracte because it's a 2D matrix, and our model is linear. The equation was created with the coefficents a and b plus the intercept which fits the prediction."
   ]
  },
  {
   "cell_type": "markdown",
   "id": "cf1788b6",
   "metadata": {},
   "source": [
    "$ y = -416809.6401386601 + 872.67469055a + 1033.21219669b $\n",
    "\n",
    "$ y = -413870.5410547301 $ ... predict ($h(x)$)"
   ]
  },
  {
   "cell_type": "markdown",
   "id": "62d0ddf5",
   "metadata": {},
   "source": [
    "## Part 4. Use Cross Validation\n",
    "https://scikit-learn.org/stable/modules/cross_validation.html#cross-validation"
   ]
  },
  {
   "cell_type": "code",
   "execution_count": 14,
   "id": "134c4bea",
   "metadata": {},
   "outputs": [
    {
     "data": {
      "text/plain": [
       "array([0.79339008, 0.88900038, 0.86683782, 0.82558008, 0.85965408])"
      ]
     },
     "execution_count": 14,
     "metadata": {},
     "output_type": "execute_result"
    }
   ],
   "source": [
    "# Use the cross_val_score function to repeat your experiment across many shuffles of the data\n",
    "from sklearn.model_selection import cross_val_score\n",
    "\n",
    "cross_val_score(LinReg, X_test, y_test, cv=5)"
   ]
  },
  {
   "cell_type": "code",
   "execution_count": 15,
   "id": "730fce20",
   "metadata": {},
   "outputs": [],
   "source": [
    "# Report on their finding and their significance"
   ]
  },
  {
   "cell_type": "markdown",
   "id": "92348800",
   "metadata": {},
   "source": [
    "They're trying to get close to the true value of LinReg from the 5 cv runs."
   ]
  },
  {
   "cell_type": "markdown",
   "id": "8998e7b2",
   "metadata": {},
   "source": [
    "## Part 5. Using Polynomial Regression\n",
    "https://scikit-learn.org/stable/modules/linear_model.html#bayesian-regression"
   ]
  },
  {
   "cell_type": "code",
   "execution_count": 16,
   "id": "84ed2841",
   "metadata": {},
   "outputs": [
    {
     "data": {
      "text/plain": [
       "1.0"
      ]
     },
     "execution_count": 16,
     "metadata": {},
     "output_type": "execute_result"
    }
   ],
   "source": [
    "# Using the PolynomialFeatures library perform another regression on an augmented dataset of degree 2\n",
    "from sklearn.preprocessing import PolynomialFeatures\n",
    "from sklearn import linear_model\n",
    "\n",
    "PolyReg = PolynomialFeatures(degree=2)\n",
    "PolyReg_train = PolyReg.fit_transform(X_train)\n",
    "PolyReg_test = PolyReg.fit_transform(X_test)\n",
    "\n",
    "BayReg = linear_model.BayesianRidge().fit(PolyReg_train, y_train)\n",
    "BayReg.score(PolyReg_test, y_test) # 1.0 meaning 100% accuracy"
   ]
  },
  {
   "cell_type": "code",
   "execution_count": 17,
   "id": "3d740445",
   "metadata": {},
   "outputs": [
    {
     "data": {
      "text/plain": [
       "array([ 0.00000000e+00,  1.20000000e+01, -1.46477861e-07, -5.23131885e-12,\n",
       "        2.00000000e+00,  2.85714287e-02])"
      ]
     },
     "execution_count": 17,
     "metadata": {},
     "output_type": "execute_result"
    }
   ],
   "source": [
    "# Report on the metrics and output the resultant equation as you did in Part 3.\n",
    "BayReg.coef_"
   ]
  },
  {
   "cell_type": "code",
   "execution_count": 18,
   "id": "e4f9d417",
   "metadata": {},
   "outputs": [
    {
     "data": {
      "text/plain": [
       "2.1951331291347742e-05"
      ]
     },
     "execution_count": 18,
     "metadata": {},
     "output_type": "execute_result"
    }
   ],
   "source": [
    "BayReg.intercept_"
   ]
  },
  {
   "cell_type": "code",
   "execution_count": 19,
   "id": "20cb1069",
   "metadata": {},
   "outputs": [
    {
     "data": {
      "text/plain": [
       "array([34.17145007])"
      ]
     },
     "execution_count": 19,
     "metadata": {},
     "output_type": "execute_result"
    }
   ],
   "source": [
    "BayReg.predict(np.array([[1, 2, 3, 4, 5, 6]]))"
   ]
  },
  {
   "cell_type": "markdown",
   "id": "fd6103e5",
   "metadata": {},
   "source": [
    "$ y = 2.3343833163380623*10^{-5} + 0.00000000*1 + 1.20000000 * 10^{1}*a + -1.76090506 * 10^{7}*b + -2.64489472 *10^{-11}*a^2 + 2.00000000*ab + 2.85714288 *10^{-2}*b^2 $"
   ]
  },
  {
   "cell_type": "markdown",
   "id": "486926d5",
   "metadata": {},
   "source": [
    "Because this is a polynomial regression (using polynomial features), we can convert the 2D matrix into a regular matrix. So we can easily fit the data into a model for a 100% accuracy (as noted by the Bayesian Regression score of 1.0). \n",
    "\n",
    "For a degree two polynomial the coefficients arrays refer to these terms: [1, a, b, a^2, ab, b^2]"
   ]
  }
 ],
 "metadata": {
  "kernelspec": {
   "display_name": "Python 3",
   "language": "python",
   "name": "python3"
  },
  "language_info": {
   "codemirror_mode": {
    "name": "ipython",
    "version": 3
   },
   "file_extension": ".py",
   "mimetype": "text/x-python",
   "name": "python",
   "nbconvert_exporter": "python",
   "pygments_lexer": "ipython3",
   "version": "3.8.8"
  }
 },
 "nbformat": 4,
 "nbformat_minor": 5
}
